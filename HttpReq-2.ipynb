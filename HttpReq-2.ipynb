{
 "cells": [
  {
   "cell_type": "code",
   "execution_count": 5,
   "metadata": {},
   "outputs": [
    {
     "name": "stdout",
     "output_type": "stream",
     "text": [
      "Notice: While Javascript is not essential for this website, your interaction with the content will be limited. Please turn Javascript on for the full experience. \n",
      "The core of extensible programming is defining functions. Python allows mandatory and optional arguments, keyword arguments, and even arbitrary argument lists. More about defining functions in Python 3\n",
      "Lists (known as arrays in other languages) are one of the compound data types that Python understands. Lists can be indexed, sliced and manipulated with other built-in functions. More about lists in Python 3\n",
      "Calculations are simple with Python, and expression syntax is straightforward: the operators +, -, * and / work as expected; parentheses () can be used for grouping. More about simple math functions in Python 3.\n",
      "Experienced programmers in any other language can pick up Python very quickly, and beginners find the clean syntax and indentation structure easy to learn. Whet your appetite with our Python 3 overview.\n",
      "Python knows the usual control flow statements that other languages speak — if, for, while and range — with some of its own twists, of course. More control flow tools in Python 3\n",
      "Python is a programming language that lets you work quickly and integrate systems more effectively. Learn More\n",
      "Whether you're new to programming or an experienced developer, it's easy to learn and use Python.\n",
      "Start with our Beginner’s Guide\n",
      "Python source code and installers are available for download for all versions!\n",
      "Latest: Python 3.8.3\n",
      "Documentation for Python's standard library, along with tutorials and guides, are available online.\n",
      "docs.python.org\n",
      "Looking for work or have a Python related position that you're trying to hire for? Our relaunched community-run job board is the place to go.\n",
      "jobs.python.org\n",
      "More\n",
      "More\n",
      "More\n",
      "Building an open-source and cross-platform Azure CLI with Python by Dan Taylor\n",
      "More\n",
      "The mission of the Python Software Foundation is to promote, protect, and advance the Python programming language, and to support and facilitate the growth of a diverse and international community of Python programmers. Learn more \n",
      "\n",
      "Become a Member\n",
      "Donate to the PSF\n",
      "\n",
      "\n",
      "Copyright ©2001-2020.\n",
      "                             Python Software Foundation\n",
      "                             Legal Statements\n",
      "                             Privacy Policy\n",
      "                             Powered by Heroku\n",
      "\n"
     ]
    }
   ],
   "source": [
    "import urllib.request as rq\n",
    "import bs4 as bs\n",
    "\n",
    "text = rq.urlopen('http://python.org').read()\n",
    "soup = bs.BeautifulSoup(text,'lxml')\n",
    "for paragraph in soup.find_all('p'):\n",
    "    print (paragraph.text)"
   ]
  },
  {
   "cell_type": "code",
   "execution_count": null,
   "metadata": {},
   "outputs": [],
   "source": []
  }
 ],
 "metadata": {
  "kernelspec": {
   "display_name": "Python 3",
   "language": "python",
   "name": "python3"
  },
  "language_info": {
   "codemirror_mode": {
    "name": "ipython",
    "version": 3
   },
   "file_extension": ".py",
   "mimetype": "text/x-python",
   "name": "python",
   "nbconvert_exporter": "python",
   "pygments_lexer": "ipython3",
   "version": "3.7.4"
  }
 },
 "nbformat": 4,
 "nbformat_minor": 2
}
